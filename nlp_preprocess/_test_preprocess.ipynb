{
 "cells": [
  {
   "cell_type": "markdown",
   "metadata": {},
   "source": [
    "## Imports"
   ]
  },
  {
   "cell_type": "code",
   "execution_count": 4,
   "metadata": {},
   "outputs": [],
   "source": [
    "import nltk\n",
    "import numpy as np\n",
    "import re"
   ]
  },
  {
   "cell_type": "markdown",
   "metadata": {},
   "source": [
    "## Remove html tags "
   ]
  },
  {
   "cell_type": "code",
   "execution_count": 13,
   "metadata": {},
   "outputs": [],
   "source": [
    "from io import StringIO\n",
    "from html.parser import HTMLParser\n",
    "\n",
    "class HTMLStrip(HTMLParser):\n",
    "    def __init__(self):\n",
    "        super().__init__()\n",
    "        self.reset()\n",
    "        self.strict = False\n",
    "        self.convert_charrefs= True\n",
    "        self.text = StringIO()\n",
    "    def handle_data(self, d):\n",
    "        self.text.write(d)\n",
    "    def get_data(self):\n",
    "        return self.text.getvalue()\n",
    "\n",
    "def strip_tags(html):\n",
    "    htmlStripperObj = HTMLStrip()\n",
    "    htmlStripperObj.feed(html)\n",
    "    return htmlStripperObj.get_data()"
   ]
  },
  {
   "cell_type": "code",
   "execution_count": 14,
   "metadata": {},
   "outputs": [
    {
     "data": {
      "text/plain": [
       "'This is a paragraph.This is a paragraph.This is a paragraph.'"
      ]
     },
     "execution_count": 14,
     "metadata": {},
     "output_type": "execute_result"
    }
   ],
   "source": [
    "strip_tags(\"<!DOCTYPE html><html><body><p>This is a paragraph.</p><p>This is a paragraph.</p><p>This is a paragraph.</p></body></html>\")"
   ]
  },
  {
   "cell_type": "markdown",
   "metadata": {},
   "source": [
    "## Removing extra spaces"
   ]
  },
  {
   "cell_type": "code",
   "execution_count": 19,
   "metadata": {},
   "outputs": [],
   "source": [
    "class WhitespaceCorrect():\n",
    "    def __init__(self,text):\n",
    "        self.text = text\n",
    "    def get_data(self):\n",
    "        return (' '.join(self.text.split()))\n",
    "\n",
    "def strip_space(text):\n",
    "    whitespace = WhitespaceCorrect(text)\n",
    "    return whitespace.get_data()"
   ]
  },
  {
   "cell_type": "code",
   "execution_count": 20,
   "metadata": {},
   "outputs": [
    {
     "data": {
      "text/plain": [
       "'ths. is nothing'"
      ]
     },
     "execution_count": 20,
     "metadata": {},
     "output_type": "execute_result"
    }
   ],
   "source": [
    "strip_space(\"ths.     is nothing\")"
   ]
  },
  {
   "cell_type": "markdown",
   "metadata": {},
   "source": [
    "## remove special characters"
   ]
  },
  {
   "cell_type": "code",
   "execution_count": 46,
   "metadata": {},
   "outputs": [],
   "source": [
    "class SpecialChar():\n",
    "    def __init__(self,text):\n",
    "        self.text = text\n",
    "        self.mod = \"\"\n",
    "    def get_data(self):\n",
    "        final_text = \"\"\n",
    "        for str1 in self.text.split(\" \"):\n",
    "            str1 = re.sub('[\\W\\_]','',str1)\n",
    "            self.mod = self.mod+' '+str1\n",
    "        return (' '.join(self.mod.split()))\n",
    "\n",
    "def strip_space(text):\n",
    "    spl_char = SpecialChar(text)\n",
    "    return spl_char.get_data()"
   ]
  },
  {
   "cell_type": "code",
   "execution_count": 47,
   "metadata": {},
   "outputs": [
    {
     "data": {
      "text/plain": [
       "'ths is 123515abc def'"
      ]
     },
     "execution_count": 47,
     "metadata": {},
     "output_type": "execute_result"
    }
   ],
   "source": [
    "strip_space(\"ths.     is #$#&^&#$@||||123515abc def\")"
   ]
  },
  {
   "cell_type": "markdown",
   "metadata": {},
   "source": [
    "## Lowercase or uppercase"
   ]
  },
  {
   "cell_type": "code",
   "execution_count": 55,
   "metadata": {},
   "outputs": [],
   "source": [
    "class CaseUnify():\n",
    "    def __init__(self,text,case='lower'):\n",
    "        self.text = text\n",
    "        self.case=case\n",
    "    def get_data(self):\n",
    "        if self.case=='upper':\n",
    "            return (self.text.upper())\n",
    "        else:\n",
    "            return( self.text.lower())\n",
    "        \n",
    "\n",
    "def case_unify(text,case):\n",
    "    case_char = CaseUnify(text,case)\n",
    "    return case_char.get_data()"
   ]
  },
  {
   "cell_type": "code",
   "execution_count": 59,
   "metadata": {},
   "outputs": [
    {
     "data": {
      "text/plain": [
       "'this.     is #$#&^&#$@||||123515abc def'"
      ]
     },
     "execution_count": 59,
     "metadata": {},
     "output_type": "execute_result"
    }
   ],
   "source": [
    "case_unify(\"thIS.     is #$#&^&#$@||||123515Abc def\",'lower')"
   ]
  },
  {
   "cell_type": "markdown",
   "metadata": {},
   "source": [
    "## remove custom stopwords"
   ]
  },
  {
   "cell_type": "code",
   "execution_count": 68,
   "metadata": {},
   "outputs": [],
   "source": [
    "class StopWords():\n",
    "    def __init__(self,text,stop_list):\n",
    "        self.text = text\n",
    "        self.stop_list=stop_list\n",
    "    def get_data(self):\n",
    "        return(' '.join([i for i in self.text.split(\" \") if i not in self.stop_list]))\n",
    "        \n",
    "\n",
    "def rem_stopwords(text,stop_list):\n",
    "    rem_stop = StopWords(text,stop_list)\n",
    "    return rem_stop.get_data()"
   ]
  },
  {
   "cell_type": "code",
   "execution_count": 72,
   "metadata": {},
   "outputs": [
    {
     "data": {
      "text/plain": [
       "'this hello world'"
      ]
     },
     "execution_count": 72,
     "metadata": {},
     "output_type": "execute_result"
    }
   ],
   "source": [
    "rem_stopwords('this is hello world', ['is'])"
   ]
  },
  {
   "cell_type": "code",
   "execution_count": 8,
   "metadata": {},
   "outputs": [],
   "source": [
    "from remove_extra_space import WhitespaceCorrect"
   ]
  },
  {
   "cell_type": "code",
   "execution_count": 6,
   "metadata": {},
   "outputs": [
    {
     "data": {
      "text/plain": [
       "'nb. sjbs.'"
      ]
     },
     "execution_count": 6,
     "metadata": {},
     "output_type": "execute_result"
    }
   ],
   "source": [
    "text_data = \"nb. sjbs.  \"\n",
    "test = WhitespaceCorrect(text_data)\n",
    "test.get_data()"
   ]
  },
  {
   "cell_type": "code",
   "execution_count": null,
   "metadata": {},
   "outputs": [],
   "source": []
  }
 ],
 "metadata": {
  "kernelspec": {
   "display_name": "Python 3",
   "language": "python",
   "name": "python3"
  },
  "language_info": {
   "codemirror_mode": {
    "name": "ipython",
    "version": 3
   },
   "file_extension": ".py",
   "mimetype": "text/x-python",
   "name": "python",
   "nbconvert_exporter": "python",
   "pygments_lexer": "ipython3",
   "version": "3.7.6"
  }
 },
 "nbformat": 4,
 "nbformat_minor": 2
}
